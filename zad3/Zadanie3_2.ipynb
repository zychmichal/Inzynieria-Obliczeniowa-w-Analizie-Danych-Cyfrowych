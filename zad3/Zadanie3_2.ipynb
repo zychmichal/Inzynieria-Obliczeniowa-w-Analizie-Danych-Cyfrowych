{
  "nbformat": 4,
  "nbformat_minor": 0,
  "metadata": {
    "colab": {
      "name": "Zadanie2.ipynb",
      "provenance": [],
      "collapsed_sections": []
    },
    "kernelspec": {
      "name": "python3",
      "display_name": "Python 3"
    }
  },
  "cells": [
    {
      "cell_type": "markdown",
      "metadata": {
        "id": "1MLWZ19wT_MC",
        "colab_type": "text"
      },
      "source": [
        "Michał Zych, michal.zych96@gmail.com\n",
        "\n",
        "Michał Warzecha, warzmich@gmail.com"
      ]
    },
    {
      "cell_type": "code",
      "metadata": {
        "id": "9AbxEpa6TgsT",
        "colab_type": "code",
        "colab": {
          "base_uri": "https://localhost:8080/",
          "height": 68
        },
        "outputId": "16029254-afb9-4694-fe0a-00e4f2495492"
      },
      "source": [
        "%tensorflow_version 1.x\n",
        "import keras\n",
        "keras.__version__"
      ],
      "execution_count": 1,
      "outputs": [
        {
          "output_type": "stream",
          "text": [
            "TensorFlow 1.x selected.\n"
          ],
          "name": "stdout"
        },
        {
          "output_type": "stream",
          "text": [
            "Using TensorFlow backend.\n"
          ],
          "name": "stderr"
        },
        {
          "output_type": "execute_result",
          "data": {
            "text/plain": [
              "'2.2.5'"
            ]
          },
          "metadata": {
            "tags": []
          },
          "execution_count": 1
        }
      ]
    },
    {
      "cell_type": "code",
      "metadata": {
        "id": "wJySM5UjUHZk",
        "colab_type": "code",
        "colab": {
          "resources": {
            "http://localhost:8080/nbextensions/google.colab/files.js": {
              "data": "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",
              "ok": true,
              "headers": [
                [
                  "content-type",
                  "application/javascript"
                ]
              ],
              "status": 200,
              "status_text": ""
            }
          },
          "base_uri": "https://localhost:8080/",
          "height": 90
        },
        "outputId": "50deae05-8fa0-438e-f923-f27b3eb76b90"
      },
      "source": [
        "from google.colab import files\n",
        "uploaded = files.upload()\n",
        "print(uploaded.keys())"
      ],
      "execution_count": 8,
      "outputs": [
        {
          "output_type": "display_data",
          "data": {
            "text/html": [
              "\n",
              "     <input type=\"file\" id=\"files-b345b4c0-f5df-4b1a-97b5-648745bd8368\" name=\"files[]\" multiple disabled />\n",
              "     <output id=\"result-b345b4c0-f5df-4b1a-97b5-648745bd8368\">\n",
              "      Upload widget is only available when the cell has been executed in the\n",
              "      current browser session. Please rerun this cell to enable.\n",
              "      </output>\n",
              "      <script src=\"/nbextensions/google.colab/files.js\"></script> "
            ],
            "text/plain": [
              "<IPython.core.display.HTML object>"
            ]
          },
          "metadata": {
            "tags": []
          }
        },
        {
          "output_type": "stream",
          "text": [
            "Saving Bias_correction_ucl.csv to Bias_correction_ucl.csv\n",
            "dict_keys(['Bias_correction_ucl.csv'])\n"
          ],
          "name": "stdout"
        }
      ]
    },
    {
      "cell_type": "code",
      "metadata": {
        "id": "lsCGHxdHUPV8",
        "colab_type": "code",
        "colab": {
          "base_uri": "https://localhost:8080/",
          "height": 494
        },
        "outputId": "ce7719b1-3315-4431-ab9b-ad04bdc2d531"
      },
      "source": [
        "import io\n",
        "import pandas as pd\n",
        "\n",
        "\n",
        "df2 = pd.read_csv(io.BytesIO(uploaded['Bias_correction_ucl.csv']))\n",
        "# Dataset is now stored in a Pandas Dataframe\n",
        "\n",
        "print(df2.keys)\n",
        "\n",
        "# DELETE NaN VALUES\n",
        "df = df2.dropna()\n",
        "print(df.keys)"
      ],
      "execution_count": 12,
      "outputs": [
        {
          "output_type": "stream",
          "text": [
            "<bound method NDFrame.keys of       station        Date  Present_Tmax  ...  Solar radiation  Next_Tmax  Next_Tmin\n",
            "0         1.0  2013-06-30          28.7  ...      5992.895996       29.1       21.2\n",
            "1         2.0  2013-06-30          31.9  ...      5869.312500       30.5       22.5\n",
            "2         3.0  2013-06-30          31.6  ...      5863.555664       31.1       23.9\n",
            "3         4.0  2013-06-30          32.0  ...      5856.964844       31.7       24.3\n",
            "4         5.0  2013-06-30          31.4  ...      5859.552246       31.2       22.5\n",
            "...       ...         ...           ...  ...              ...        ...        ...\n",
            "7747     23.0  2017-08-30          23.3  ...      4443.313965       28.3       18.1\n",
            "7748     24.0  2017-08-30          23.3  ...      4438.373535       28.6       18.8\n",
            "7749     25.0  2017-08-30          23.2  ...      4451.345215       27.8       17.4\n",
            "7750      NaN         NaN          20.0  ...      4329.520508       17.4       11.3\n",
            "7751      NaN         NaN          37.6  ...      5992.895996       38.9       29.8\n",
            "\n",
            "[7752 rows x 25 columns]>\n",
            "<bound method NDFrame.keys of       station        Date  Present_Tmax  ...  Solar radiation  Next_Tmax  Next_Tmin\n",
            "0         1.0  2013-06-30          28.7  ...      5992.895996       29.1       21.2\n",
            "1         2.0  2013-06-30          31.9  ...      5869.312500       30.5       22.5\n",
            "2         3.0  2013-06-30          31.6  ...      5863.555664       31.1       23.9\n",
            "3         4.0  2013-06-30          32.0  ...      5856.964844       31.7       24.3\n",
            "4         5.0  2013-06-30          31.4  ...      5859.552246       31.2       22.5\n",
            "...       ...         ...           ...  ...              ...        ...        ...\n",
            "7745     21.0  2017-08-30          23.1  ...      4456.024414       27.6       17.7\n",
            "7746     22.0  2017-08-30          22.5  ...      4441.803711       28.0       17.1\n",
            "7747     23.0  2017-08-30          23.3  ...      4443.313965       28.3       18.1\n",
            "7748     24.0  2017-08-30          23.3  ...      4438.373535       28.6       18.8\n",
            "7749     25.0  2017-08-30          23.2  ...      4451.345215       27.8       17.4\n",
            "\n",
            "[7588 rows x 25 columns]>\n"
          ],
          "name": "stdout"
        }
      ]
    },
    {
      "cell_type": "code",
      "metadata": {
        "id": "co0f3zOwV8Ef",
        "colab_type": "code",
        "colab": {
          "base_uri": "https://localhost:8080/",
          "height": 170
        },
        "outputId": "d3708559-0a11-4f31-a630-ce9dc43d0153"
      },
      "source": [
        "import numpy as np\n",
        "data_set = df.to_numpy()\n",
        "\n",
        "\n",
        "print(data_set.shape)\n",
        "#DELETE DATE FROM DATASET (it's not a number)\n",
        "X_part1 = data_set[:,:1]\n",
        "X = data_set[:,2:23]\n",
        "X = np.append(X, X_part1, axis=1)\n",
        "y = data_set[:,23:]\n",
        "\n",
        "X = np.array(X, np.float)\n",
        "y = np.array(y, np.float)\n",
        "\n",
        "print(X[0])\n",
        "\n",
        "print(X.shape)\n",
        "print(y.shape)"
      ],
      "execution_count": 47,
      "outputs": [
        {
          "output_type": "stream",
          "text": [
            "(7588, 25)\n",
            "[2.87000000e+01 2.14000000e+01 5.82556877e+01 9.11163635e+01\n",
            " 2.80741015e+01 2.30069362e+01 6.81888697e+00 6.94518053e+01\n",
            " 2.33947471e-01 2.03895710e-01 1.61696854e-01 1.30928198e-01\n",
            " 0.00000000e+00 0.00000000e+00 0.00000000e+00 0.00000000e+00\n",
            " 3.76046000e+01 1.26991000e+02 2.12335000e+02 2.78500000e+00\n",
            " 5.99289600e+03 1.00000000e+00]\n",
            "(7588, 22)\n",
            "(7588, 2)\n"
          ],
          "name": "stdout"
        }
      ]
    },
    {
      "cell_type": "code",
      "metadata": {
        "id": "Mxe2cN91W6B_",
        "colab_type": "code",
        "colab": {}
      },
      "source": [
        "from sklearn.model_selection import train_test_split\n",
        "from sklearn import preprocessing\n",
        "train_data, test_data, y_train, y_test = train_test_split(X, y, test_size=0.15, random_state=42)\n",
        "\n",
        "\n",
        "#NORMALIZATION DATA (USING ONLY TRAINING SET) \n",
        "mean = train_data.mean(axis=0)\n",
        "train_data -= mean\n",
        "std = train_data.std(axis=0)\n",
        "train_data /= std\n",
        "test_data -= mean\n",
        "test_data /= std\n"
      ],
      "execution_count": 0,
      "outputs": []
    },
    {
      "cell_type": "markdown",
      "metadata": {
        "id": "RMiCtuz7sYGB",
        "colab_type": "text"
      },
      "source": [
        "Poniżej funkcja do wyznaczenia optymalnego kształu sieci neuronowej na bazie metody walidacji krzyżowej. Jako funkcje straty przyjęto MSE a jako metrykę MAE (średni bład bezwzględny)"
      ]
    },
    {
      "cell_type": "code",
      "metadata": {
        "id": "XIBjAej6Ym9e",
        "colab_type": "code",
        "colab": {}
      },
      "source": [
        "from keras import models\n",
        "from keras import layers\n",
        "from sklearn.metrics import classification_report, confusion_matrix\n",
        "\n",
        "def create_model(nr_elements, nr_hidden_layers, activation, input_shape):\n",
        "  model = models.Sequential()\n",
        "  model.add(layers.Dense(nr_elements, activation=activation, input_shape=(input_shape,)))\n",
        "  for i in range(nr_hidden_layers-1):\n",
        "    model.add(layers.Dense(nr_elements, activation=activation))\n",
        "  model.add(layers.Dense(2))\n",
        "  return model\n",
        "\n",
        "\n",
        "def best_model_based_on_cross_validation(x_train, y_train, input_shape):\n",
        "  len_validation_data = x_train.shape[0]/5\n",
        "  max_accuracy =0\n",
        "  best_nr_elems = 0\n",
        "  best_nr_layer = 0\n",
        "  len_training_data_cs = int(4* len_validation_data)\n",
        "  min_correct = 10000\n",
        "  for nr_elements in [32, 64, 128]:\n",
        "    for nr_hidden_layers in [1,2,3]:\n",
        "      model = create_model(nr_elements, nr_hidden_layers, 'relu', input_shape)\n",
        "      model.compile(optimizer='rmsprop',\n",
        "              loss='mse',\n",
        "              metrics=['mae'])\n",
        "      print(\"Nr elements: \" + str(nr_elements) + \", nr hidden_layers: \" + str(nr_hidden_layers))\n",
        "      model.fit(x_train[0:len_training_data_cs],\n",
        "                y_train[0:len_training_data_cs],\n",
        "                epochs=20,\n",
        "                batch_size=512,\n",
        "                verbose=0)\n",
        "      val_mse, val_mae = model.evaluate(x_train[len_training_data_cs:],\n",
        "                                        y_train[len_training_data_cs:],\n",
        "                                        verbose=0)\n",
        "      print(\"mae value: \" + str(val_mae))\n",
        "      if val_mae < min_correct:\n",
        "        min_correct = val_mae\n",
        "        best_nr_elems = nr_elements\n",
        "        best_nr_layer = nr_hidden_layers\n",
        "\n",
        "  print(\"Best nr elems: {}, best nr hidden layers: {}\".format(best_nr_elems, best_nr_layer))\n",
        "  model = create_model(best_nr_elems, best_nr_layer, 'relu', input_shape) \n",
        "  model.compile(optimizer='rmsprop',\n",
        "              loss='mse',\n",
        "              metrics=['mae']) \n",
        "  model.fit(x_train,\n",
        "            y_train,\n",
        "            epochs=20,\n",
        "            batch_size=512,\n",
        "            verbose=0)\n",
        "  return model\n",
        "   "
      ],
      "execution_count": 0,
      "outputs": []
    },
    {
      "cell_type": "code",
      "metadata": {
        "id": "F7_BeEI7nME_",
        "colab_type": "code",
        "colab": {
          "base_uri": "https://localhost:8080/",
          "height": 341
        },
        "outputId": "2c3f521e-d275-46bc-d9ec-afb2e26ffb14"
      },
      "source": [
        "best_model = best_model_based_on_cross_validation(train_data, y_train, train_data.shape[1])"
      ],
      "execution_count": 60,
      "outputs": [
        {
          "output_type": "stream",
          "text": [
            "Nr elements: 32, nr hidden_layers: 1\n",
            "mae value: 18.296536225311517\n",
            "Nr elements: 32, nr hidden_layers: 2\n",
            "mae value: 4.6836771928062735\n",
            "Nr elements: 32, nr hidden_layers: 3\n",
            "mae value: 2.5479853212371353\n",
            "Nr elements: 64, nr hidden_layers: 1\n",
            "mae value: 14.319753014024839\n",
            "Nr elements: 64, nr hidden_layers: 2\n",
            "mae value: 2.211879469627558\n",
            "Nr elements: 64, nr hidden_layers: 3\n",
            "mae value: 1.8681989828745524\n",
            "Nr elements: 128, nr hidden_layers: 1\n",
            "mae value: 6.694445854748866\n",
            "Nr elements: 128, nr hidden_layers: 2\n",
            "mae value: 1.7030972682228385\n",
            "Nr elements: 128, nr hidden_layers: 3\n",
            "mae value: 1.8272562631340914\n",
            "Best nr elems: 128, best nr hidden layers: 2\n"
          ],
          "name": "stdout"
        }
      ]
    },
    {
      "cell_type": "code",
      "metadata": {
        "id": "wOqvshrypFUh",
        "colab_type": "code",
        "colab": {
          "base_uri": "https://localhost:8080/",
          "height": 119
        },
        "outputId": "3aab1163-04bd-4e75-b94f-6f1cc7ab5814"
      },
      "source": [
        "test_mse_score, test_mae_score = best_model.evaluate(test_data, y_test)\n",
        "print(test_mae_score)\n",
        "\n",
        "mean_24 = np.mean(y_test[0])\n",
        "mean_25 = np.mean(y_test[1])\n",
        "sum_mean = mean_24 + mean_25\n",
        "print(mean_24)\n",
        "print(mean_25)\n",
        "print(sum_mean)\n",
        "\n",
        "\n",
        "print(\"Sredni blad wzgledny: \" + str(test_mae_score/sum_mean))"
      ],
      "execution_count": 64,
      "outputs": [
        {
          "output_type": "stream",
          "text": [
            "1139/1139 [==============================] - 0s 38us/step\n",
            "1.6640877167942023\n",
            "26.6\n",
            "24.65\n",
            "51.25\n",
            "Sredni blad wzgledny: 0.03247000423013078\n"
          ],
          "name": "stdout"
        }
      ]
    }
  ]
}