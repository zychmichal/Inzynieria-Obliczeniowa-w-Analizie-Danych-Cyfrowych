{
  "nbformat": 4,
  "nbformat_minor": 0,
  "metadata": {
    "colab": {
      "name": "Zadanie4_FASTDescriptor.ipynb",
      "provenance": [],
      "collapsed_sections": []
    },
    "kernelspec": {
      "name": "python3",
      "display_name": "Python 3"
    }
  },
  "cells": [
    {
      "cell_type": "markdown",
      "metadata": {
        "id": "Jvm-op3Pj68B",
        "colab_type": "text"
      },
      "source": [
        "Michał Zych, michal.zych96@gmail.com\n",
        "\n",
        "Michał Warzecha, warzmich@gmail.com"
      ]
    },
    {
      "cell_type": "code",
      "metadata": {
        "id": "7neRRyP3R0pm",
        "colab_type": "code",
        "outputId": "868e52a0-0638-4811-a7a2-f3ef0dcea4eb",
        "colab": {
          "base_uri": "https://localhost:8080/",
          "height": 52
        }
      },
      "source": [
        "%tensorflow_version 1.x\n",
        "import cv2\n",
        "import numpy as np\n",
        "import matplotlib.pyplot as plt\n",
        "from keras.datasets import mnist\n",
        "from sklearn import svm"
      ],
      "execution_count": 0,
      "outputs": [
        {
          "output_type": "stream",
          "text": [
            "TensorFlow 1.x selected.\n"
          ],
          "name": "stdout"
        },
        {
          "output_type": "stream",
          "text": [
            "Using TensorFlow backend.\n"
          ],
          "name": "stderr"
        }
      ]
    },
    {
      "cell_type": "code",
      "metadata": {
        "id": "RW9GlV3BSARl",
        "colab_type": "code",
        "colab": {}
      },
      "source": [
        "def showOpencvImage(image, isGray=False):\n",
        "    fig = plt.figure(figsize=(6, 6))\n",
        "    plt.imshow(image, cmap = 'gray')\n",
        "    plt.show()"
      ],
      "execution_count": 0,
      "outputs": []
    },
    {
      "cell_type": "code",
      "metadata": {
        "id": "_vwzriwSXEl9",
        "colab_type": "code",
        "colab": {}
      },
      "source": [
        "def openCVfast(img):\n",
        "  fast = cv2.FastFeatureDetector_create()\n",
        "  kp = fast.detect(img,None)\n",
        "  data = np.zeros(img.shape)\n",
        "  for k in kp:\n",
        "    data[int(k.pt[0])][int(k.pt[1])] = k.size\n",
        "  return np.ravel(data)"
      ],
      "execution_count": 0,
      "outputs": []
    },
    {
      "cell_type": "code",
      "metadata": {
        "id": "vl1ebCvySClx",
        "colab_type": "code",
        "outputId": "b54c1c53-44ac-44c7-b711-7e9358b1da98",
        "colab": {
          "base_uri": "https://localhost:8080/",
          "height": 444
        }
      },
      "source": [
        "(train_images, train_labels), (test_images, test_labels) = mnist.load_data()\n",
        "\n",
        "im_list = [train_images[i] for i in range(0,train_images.shape[0])] + [test_images[i] for i in range(0,test_images.shape[0])]\n",
        "print(len(im_list))\n",
        "\n",
        "showOpencvImage(train_images[1])\n",
        "print(train_labels[1])"
      ],
      "execution_count": 0,
      "outputs": [
        {
          "output_type": "stream",
          "text": [
            "Downloading data from https://s3.amazonaws.com/img-datasets/mnist.npz\n",
            "11493376/11490434 [==============================] - 0s 0us/step\n",
            "70000\n"
          ],
          "name": "stdout"
        },
        {
          "output_type": "display_data",
          "data": {
            "image/png": "[encoded data removed]",
            "text/plain": [
              "<Figure size 432x432 with 1 Axes>"
            ]
          },
          "metadata": {
            "tags": []
          }
        },
        {
          "output_type": "stream",
          "text": [
            "0\n"
          ],
          "name": "stdout"
        }
      ]
    },
    {
      "cell_type": "code",
      "metadata": {
        "id": "QunahSA9SKcT",
        "colab_type": "code",
        "outputId": "92831845-fa92-402d-9917-2d6362cb0bbc",
        "colab": {
          "base_uri": "https://localhost:8080/",
          "height": 34
        }
      },
      "source": [
        "fast_data = [openCVfast(im) for im in im_list]\n",
        "\n",
        "imData = np.float32(fast_data)\n",
        "print(imData.shape)"
      ],
      "execution_count": 0,
      "outputs": [
        {
          "output_type": "stream",
          "text": [
            "(70000, 784)\n"
          ],
          "name": "stdout"
        }
      ]
    },
    {
      "cell_type": "markdown",
      "metadata": {
        "id": "Xl5KDAKmU9DR",
        "colab_type": "text"
      },
      "source": [
        "**SVM**"
      ]
    },
    {
      "cell_type": "code",
      "metadata": {
        "id": "dT4Z8KD4e-xH",
        "colab_type": "code",
        "colab": {}
      },
      "source": [
        "#Funkcja do wyboru najlepszych parametrow modelu SVM w przedziale C = 10:20, gamma = 0.1:0.9\n",
        "def best_SVM_model_based_on_cross_validation(train_data, train_labels):\n",
        "  Cs = np.arange(10, 20, 0.5).tolist()\n",
        "  gammas = np.arange(0.1, 0.9, 0.1).tolist()\n",
        "  len_validation_data = len(train_data)/5\n",
        "  max_correct =0\n",
        "  best_C = 0\n",
        "  best_gamma = 0\n",
        "  len_training_data_cs = int(4* len_validation_data)\n",
        "  \n",
        "  for C in Cs:\n",
        "    for gamma in gammas:\n",
        "      model = svm.SVC(C=C, gamma=gamma)\n",
        "      model = model.fit(train_data[0:len_training_data_cs,:],train_labels[0:len_training_data_cs])\n",
        "\n",
        "      pred_labels = model.predict(train_data[len_training_data_cs:,:])\n",
        "\n",
        "      mask = pred_labels==train_labels[len_training_data_cs:]\n",
        "      correct = np.count_nonzero(mask)\n",
        "      if correct > max_correct:\n",
        "        max_correct = correct\n",
        "        best_C = C\n",
        "        best_gamma = gamma\n",
        "\n",
        "  model = svm.SVC(C=best_C, gamma=best_gamma)\n",
        "  model = model.fit(train_data, train_labels)\n",
        "  return model"
      ],
      "execution_count": 0,
      "outputs": []
    },
    {
      "cell_type": "code",
      "metadata": {
        "id": "phXx9CPfUyjm",
        "colab_type": "code",
        "colab": {}
      },
      "source": [
        "model = best_SVM_model_based_on_cross_validation(imData[0:600,:],train_labels[0:600])\n",
        "\n",
        "pred_labels = model.predict(imData[600:1000,:])"
      ],
      "execution_count": 0,
      "outputs": []
    },
    {
      "cell_type": "code",
      "metadata": {
        "id": "M5GTzY-tU2Hr",
        "colab_type": "code",
        "outputId": "f67b9a8d-5110-421e-95f0-e0266d99a7ec",
        "colab": {
          "base_uri": "https://localhost:8080/",
          "height": 537
        }
      },
      "source": [
        "from sklearn.metrics import classification_report, confusion_matrix\n",
        "\n",
        "mask = pred_labels==train_labels[600:1000]\n",
        "correct = np.count_nonzero(mask)\n",
        "print(correct*100.0/pred_labels.size)\n",
        "\n",
        "cm = confusion_matrix(train_labels[600:1000], pred_labels)\n",
        "print(cm)\n",
        "print(classification_report(train_labels[600:1000], pred_labels))"
      ],
      "execution_count": 0,
      "outputs": [
        {
          "output_type": "stream",
          "text": [
            "9.25\n",
            "[[ 0 39  0  0  0  0  0  0  0  0]\n",
            " [ 0 37  0  0  0  0  0  0  0  0]\n",
            " [ 0 35  0  0  0  0  0  0  0  0]\n",
            " [ 0 34  0  0  0  0  0  0  0  0]\n",
            " [ 0 46  0  0  0  0  0  0  0  0]\n",
            " [ 0 41  0  0  0  0  0  0  0  0]\n",
            " [ 0 40  0  0  0  0  0  0  0  0]\n",
            " [ 0 55  0  0  0  0  0  0  0  0]\n",
            " [ 0 38  0  0  0  0  0  0  0  0]\n",
            " [ 0 35  0  0  0  0  0  0  0  0]]\n",
            "              precision    recall  f1-score   support\n",
            "\n",
            "           0       0.00      0.00      0.00        39\n",
            "           1       0.09      1.00      0.17        37\n",
            "           2       0.00      0.00      0.00        35\n",
            "           3       0.00      0.00      0.00        34\n",
            "           4       0.00      0.00      0.00        46\n",
            "           5       0.00      0.00      0.00        41\n",
            "           6       0.00      0.00      0.00        40\n",
            "           7       0.00      0.00      0.00        55\n",
            "           8       0.00      0.00      0.00        38\n",
            "           9       0.00      0.00      0.00        35\n",
            "\n",
            "    accuracy                           0.09       400\n",
            "   macro avg       0.01      0.10      0.02       400\n",
            "weighted avg       0.01      0.09      0.02       400\n",
            "\n"
          ],
          "name": "stdout"
        },
        {
          "output_type": "stream",
          "text": [
            "/usr/local/lib/python3.6/dist-packages/sklearn/metrics/_classification.py:1272: UndefinedMetricWarning: Precision and F-score are ill-defined and being set to 0.0 in labels with no predicted samples. Use `zero_division` parameter to control this behavior.\n",
            "  _warn_prf(average, modifier, msg_start, len(result))\n"
          ],
          "name": "stderr"
        }
      ]
    },
    {
      "cell_type": "markdown",
      "metadata": {
        "id": "Ao9WsZi3VBwQ",
        "colab_type": "text"
      },
      "source": [
        "**Random Forest**"
      ]
    },
    {
      "cell_type": "code",
      "metadata": {
        "id": "c8TJjX2ljvS8",
        "colab_type": "code",
        "colab": {}
      },
      "source": [
        "from sklearn.ensemble import RandomForestClassifier\n",
        "\n",
        "#Funkcja do wyboru najlepszych parametrow modelu RandomForest w przedziale max_depth = 10:20, n_estimators = 50:150, max_features = 50:70\n",
        "def best_random_forest_model_based_on_cross_validation(train_data, train_labels):\n",
        "  max_depth = list(range(10,21))\n",
        "  n_estimators = list(range(50,151,10))\n",
        "  max_features = list(range(50,70,10))\n",
        "  len_validation_data = len(train_data)/5\n",
        "  max_correct =0\n",
        "  best_max_depth = 0\n",
        "  best_n_estimators = 0\n",
        "  best_max_features = 0\n",
        "  len_training_data_cs = int(4* len_validation_data)\n",
        "  \n",
        "  for depth in max_depth:\n",
        "    for estimator in n_estimators:\n",
        "      for features in max_features:\n",
        "        rfc = RandomForestClassifier(max_depth=depth, n_estimators=estimator, max_features=features)\n",
        "        rfc = rfc.fit(train_data[0:len_training_data_cs,:],train_labels[0:len_training_data_cs])\n",
        "\n",
        "        pred_labels = rfc.predict(train_data[len_training_data_cs:,:])\n",
        "\n",
        "        mask = pred_labels==train_labels[len_training_data_cs:]\n",
        "        correct = np.count_nonzero(mask)\n",
        "        if correct > max_correct:\n",
        "          max_correct = correct\n",
        "          best_max_depth = depth\n",
        "          best_n_estimators = estimator\n",
        "          best_max_features = features\n",
        "\n",
        "  rfc = RandomForestClassifier(max_depth=best_max_depth, n_estimators=best_n_estimators, max_features=best_max_features)\n",
        "  rfc = rfc.fit(train_data, train_labels)\n",
        "  return rfc"
      ],
      "execution_count": 0,
      "outputs": []
    },
    {
      "cell_type": "code",
      "metadata": {
        "id": "aFTCw5zWVHAn",
        "colab_type": "code",
        "outputId": "ec972cf9-08a0-4e84-9dd1-ac9e8c97ec56",
        "colab": {
          "base_uri": "https://localhost:8080/",
          "height": 502
        }
      },
      "source": [
        "rfc =  best_random_forest_model_based_on_cross_validation(imData[0:600,:],train_labels[0:600])\n",
        "\n",
        "pred_labels = rfc.predict(imData[600:1000,:])\n",
        "\n",
        "mask = pred_labels==train_labels[600:1000]\n",
        "correct = np.count_nonzero(mask)\n",
        "print(correct*100.0/pred_labels.size)\n",
        "\n",
        "cm = confusion_matrix(train_labels[600:1000], pred_labels)\n",
        "print(cm)\n",
        "print(classification_report(train_labels[600:1000], pred_labels))"
      ],
      "execution_count": 0,
      "outputs": [
        {
          "output_type": "stream",
          "text": [
            "23.25\n",
            "[[ 8  7  1  5  3  0  4  2  6  3]\n",
            " [ 0 33  1  0  0  0  0  0  0  3]\n",
            " [ 2 15  0  0  2  0  7  0  2  7]\n",
            " [ 0 15  0  9  1  0  5  1  3  0]\n",
            " [ 2 27  1  2  2  0  4  2  2  4]\n",
            " [ 2 14  1  9  3  0  4  1  3  4]\n",
            " [ 2 10  3  2  2  0 16  0  0  5]\n",
            " [ 1 34  0  0  3  0  2  8  4  3]\n",
            " [ 2 15  0  4  0  2  0  3  4  8]\n",
            " [ 0 15  1  2  1  0  1  2  0 13]]\n",
            "              precision    recall  f1-score   support\n",
            "\n",
            "           0       0.42      0.21      0.28        39\n",
            "           1       0.18      0.89      0.30        37\n",
            "           2       0.00      0.00      0.00        35\n",
            "           3       0.27      0.26      0.27        34\n",
            "           4       0.12      0.04      0.06        46\n",
            "           5       0.00      0.00      0.00        41\n",
            "           6       0.37      0.40      0.39        40\n",
            "           7       0.42      0.15      0.22        55\n",
            "           8       0.17      0.11      0.13        38\n",
            "           9       0.26      0.37      0.31        35\n",
            "\n",
            "    accuracy                           0.23       400\n",
            "   macro avg       0.22      0.24      0.19       400\n",
            "weighted avg       0.23      0.23      0.19       400\n",
            "\n"
          ],
          "name": "stdout"
        }
      ]
    },
    {
      "cell_type": "markdown",
      "metadata": {
        "id": "__jEOtmnqNe8",
        "colab_type": "text"
      },
      "source": [
        "**WNIOSKI:**\n",
        "\n",
        "FAST deskryptor jest złym deskryptorem do tego typu zadania. Dla SVM wynik jest porównywalny do losowego przypisania kategorii. Dla RFC wynik ten jest lepszy lecz również w żaden sposób nie satysfakcjonujący."
      ]
    }
  ]
}