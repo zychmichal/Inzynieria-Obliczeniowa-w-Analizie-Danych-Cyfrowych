{
  "nbformat": 4,
  "nbformat_minor": 0,
  "metadata": {
    "colab": {
      "name": "Zadanie2_CompareDataWithAndWithoutDeskew.ipynb",
      "provenance": [],
      "collapsed_sections": []
    },
    "kernelspec": {
      "name": "python3",
      "display_name": "Python 3"
    }
  },
  "cells": [
    {
      "cell_type": "markdown",
      "metadata": {
        "id": "9og_En2gT9H0",
        "colab_type": "text"
      },
      "source": [
        "Michał Zych, michal.zych96@gmail.com\n",
        "\n",
        "Michał Warzecha, warzmich@gmail.com\n",
        "\n",
        "**Ze wzglęzdu na to, że w Lecture1a wszystkie dane do trenowania były ze zbioru bez preproccesingu, w tym nootebooku wytrenowano klasyfikatory zarówno na zbiorze bez jak i z preproccesingiem w postaci wyprostowania tekstu (funkcja deskew)**"
      ]
    },
    {
      "cell_type": "code",
      "metadata": {
        "id": "iNj6_DPCHkDm",
        "colab_type": "code",
        "outputId": "5d9a020a-e99a-42ee-b15e-eef4f4cfe8b3",
        "colab": {
          "base_uri": "https://localhost:8080/",
          "height": 52
        }
      },
      "source": [
        "%tensorflow_version 1.x\n",
        "import cv2\n",
        "import numpy as np\n",
        "import matplotlib.pyplot as plt\n",
        "from keras.datasets import mnist\n",
        "from sklearn import svm"
      ],
      "execution_count": 0,
      "outputs": [
        {
          "output_type": "stream",
          "text": [
            "TensorFlow 1.x selected.\n"
          ],
          "name": "stdout"
        },
        {
          "output_type": "stream",
          "text": [
            "Using TensorFlow backend.\n"
          ],
          "name": "stderr"
        }
      ]
    },
    {
      "cell_type": "code",
      "metadata": {
        "id": "_k80Z_D9NWMz",
        "colab_type": "code",
        "colab": {}
      },
      "source": [
        "def showOpencvImage(image, isGray=False):\n",
        "    fig = plt.figure(figsize=(6, 6))\n",
        "    plt.imshow(image, cmap = 'gray')\n",
        "    plt.show()"
      ],
      "execution_count": 0,
      "outputs": []
    },
    {
      "cell_type": "code",
      "metadata": {
        "id": "5-uATDjpM4mk",
        "colab_type": "code",
        "colab": {}
      },
      "source": [
        "def openCVHOG(im):\n",
        "    winSize = (20,20)\n",
        "    blockSize = (10,10)\n",
        "    blockStride = (5,5)\n",
        "    cellSize = (10,10)\n",
        "    nbins = 9\n",
        "    derivAperture = 1\n",
        "    winSigma = -1.\n",
        "    histogramNormType = 0\n",
        "    L2HysThreshold = 0.2\n",
        "    gammaCorrection = 1\n",
        "    nlevels = 64\n",
        "    signedGradients = True\n",
        "\n",
        "    hog = cv2.HOGDescriptor(winSize,blockSize,blockStride,cellSize,nbins,derivAperture,winSigma,histogramNormType,L2HysThreshold,gammaCorrection,nlevels, signedGradients)\n",
        "    descriptor = np.ravel(hog.compute(im))\n",
        "    \n",
        "    return descriptor"
      ],
      "execution_count": 0,
      "outputs": []
    },
    {
      "cell_type": "code",
      "metadata": {
        "id": "Lq0b8vR3DBTh",
        "colab_type": "code",
        "colab": {}
      },
      "source": [
        "## [deskew]\n",
        "SZ=28\n",
        "affine_flags = cv2.WARP_INVERSE_MAP|cv2.INTER_LINEAR\n",
        "\n",
        "def deskew(img):\n",
        "    m = cv2.moments(img)\n",
        "    if abs(m['mu02']) < 1e-2:\n",
        "        return img.copy()\n",
        "    skew = m['mu11']/m['mu02']\n",
        "    M = np.float32([[1, skew, -0.5*SZ*skew], [0, 1, 0]])\n",
        "    img = cv2.warpAffine(img,M,(SZ, SZ),flags=affine_flags)\n",
        "    return img\n",
        "## [deskew]"
      ],
      "execution_count": 0,
      "outputs": []
    },
    {
      "cell_type": "code",
      "metadata": {
        "id": "tDojKRlsHtNO",
        "colab_type": "code",
        "outputId": "875f34f4-e63b-472b-9fe1-e770c1dbead5",
        "colab": {
          "base_uri": "https://localhost:8080/",
          "height": 834
        }
      },
      "source": [
        "(train_images, train_labels), (test_images, test_labels) = mnist.load_data()\n",
        "\n",
        "im_list = [train_images[i] for i in range(0,train_images.shape[0])] + [test_images[i] for i in range(0,test_images.shape[0])]\n",
        "print(len(im_list))\n",
        "\n",
        "list_deskew = [deskew(im) for im in im_list]\n",
        "train_deskew = list_deskew[0:train_images.shape[0]]\n",
        "test_deskew = list_deskew[train_images.shape[0]:]\n",
        "\n",
        "list_deskew = np.asarray(list_deskew)\n",
        "train_deskew = np.asarray(train_deskew)\n",
        "test_deskew = np.asarray(test_deskew)\n",
        "\n",
        "\n",
        "print(len(list_deskew))\n",
        "print(len(train_deskew))\n",
        "print(len(test_deskew))\n",
        "\n",
        "showOpencvImage(train_images[1])\n",
        "print(train_labels[1])\n",
        "\n",
        "showOpencvImage(train_deskew[1])\n",
        "print(train_labels[1])\n",
        "\n"
      ],
      "execution_count": 0,
      "outputs": [
        {
          "output_type": "stream",
          "text": [
            "70000\n",
            "70000\n",
            "60000\n",
            "10000\n"
          ],
          "name": "stdout"
        },
        {
          "output_type": "display_data",
          "data": {
            "image/png": "[encoded data removed]",
            "text/plain": [
              "<Figure size 432x432 with 1 Axes>"
            ]
          },
          "metadata": {
            "tags": []
          }
        },
        {
          "output_type": "stream",
          "text": [
            "0\n"
          ],
          "name": "stdout"
        },
        {
          "output_type": "display_data",
          "data": {
            "image/png": "[encoded data removed]",
            "text/plain": [
              "<Figure size 432x432 with 1 Axes>"
            ]
          },
          "metadata": {
            "tags": []
          }
        },
        {
          "output_type": "stream",
          "text": [
            "0\n"
          ],
          "name": "stdout"
        }
      ]
    },
    {
      "cell_type": "code",
      "metadata": {
        "id": "IaSdjoHsNCYk",
        "colab_type": "code",
        "outputId": "bad2d9e8-616b-42d9-e89a-505ff7c6a2c2",
        "colab": {
          "base_uri": "https://localhost:8080/",
          "height": 121
        }
      },
      "source": [
        "hogdata = [openCVHOG(im) for im in im_list]\n",
        "print(len(hogdata))\n",
        "print(hogdata[0].shape)\n",
        "imData = np.float32(hogdata).reshape(-1,81)\n",
        "print(imData.shape)\n",
        "\n",
        "\n",
        "hogdata_deskew = [openCVHOG(im) for im in list_deskew]\n",
        "print(len(hogdata_deskew))\n",
        "print(hogdata_deskew[0].shape)\n",
        "imData_deskew = np.float32(hogdata_deskew).reshape(-1,81)\n",
        "print(imData_deskew.shape)"
      ],
      "execution_count": 0,
      "outputs": [
        {
          "output_type": "stream",
          "text": [
            "70000\n",
            "(81,)\n",
            "(70000, 81)\n",
            "70000\n",
            "(81,)\n",
            "(70000, 81)\n"
          ],
          "name": "stdout"
        }
      ]
    },
    {
      "cell_type": "markdown",
      "metadata": {
        "id": "fp5kJS5HREcx",
        "colab_type": "text"
      },
      "source": [
        "**SVM**"
      ]
    },
    {
      "cell_type": "code",
      "metadata": {
        "id": "DXmSC_kHNDys",
        "colab_type": "code",
        "colab": {}
      },
      "source": [
        "#Funkcja do wyboru najlepszych parametrow modelu SVM w przedziale C = 10:20, gamma = 0.1:0.9\n",
        "def best_SVM_model_based_on_cross_validation(train_data, train_labels):\n",
        "  Cs = np.arange(10, 20, 0.5).tolist()\n",
        "  gammas = np.arange(0.1, 0.9, 0.1).tolist()\n",
        "  len_validation_data = len(train_data)/5\n",
        "  max_correct =0\n",
        "  best_C = 0\n",
        "  best_gamma = 0\n",
        "  len_training_data_cs = int(4* len_validation_data)\n",
        "  \n",
        "  for C in Cs:\n",
        "    for gamma in gammas:\n",
        "      model = svm.SVC(C=C, gamma=gamma)\n",
        "      model = model.fit(train_data[0:len_training_data_cs,:],train_labels[0:len_training_data_cs])\n",
        "\n",
        "      pred_labels = model.predict(train_data[len_training_data_cs:,:])\n",
        "\n",
        "      mask = pred_labels==train_labels[len_training_data_cs:]\n",
        "      correct = np.count_nonzero(mask)\n",
        "      if correct > max_correct:\n",
        "        max_correct = correct\n",
        "        best_C = C\n",
        "        best_gamma = gamma\n",
        "\n",
        "  model = svm.SVC(C=best_C, gamma=best_gamma)\n",
        "  model = model.fit(train_data, train_labels)\n",
        "  return model\n",
        "\n",
        "\n",
        "\n",
        "\n",
        "#WITHOUT DESKEW\n",
        "model = best_SVM_model_based_on_cross_validation(imData[0:600,:],train_labels[0:600])\n",
        "pred_labels = model.predict(imData[600:1000,:])\n",
        "\n",
        "#WITH DESKEW\n",
        "model = best_SVM_model_based_on_cross_validation(imData_deskew[0:600,:],train_labels[0:600])\n",
        "pred_labels_deskew = model.predict(imData_deskew[600:1000,:])"
      ],
      "execution_count": 0,
      "outputs": []
    },
    {
      "cell_type": "code",
      "metadata": {
        "id": "ZwyCb794KWs7",
        "colab_type": "code",
        "outputId": "4e962919-fa2e-4e58-f3b4-683c913b14cf",
        "colab": {
          "base_uri": "https://localhost:8080/",
          "height": 1000
        }
      },
      "source": [
        "from sklearn.metrics import classification_report, confusion_matrix\n",
        "\n",
        "mask = pred_labels==train_labels[600:1000]\n",
        "correct = np.count_nonzero(mask)\n",
        "print(correct*100.0/pred_labels.size)\n",
        "\n",
        "cm = confusion_matrix(train_labels[600:1000], pred_labels)\n",
        "print(\"WITHOUT DESKEW\")\n",
        "print(cm)\n",
        "print(classification_report(train_labels[600:1000], pred_labels))\n",
        "print()\n",
        "\n",
        "\n",
        "mask = pred_labels_deskew==train_labels[600:1000]\n",
        "correct = np.count_nonzero(mask)\n",
        "print(correct*100.0/pred_labels_deskew.size)\n",
        "\n",
        "cm = confusion_matrix(train_labels[600:1000], pred_labels_deskew)\n",
        "print(\"WITH DESKEW\")\n",
        "print(cm)\n",
        "print(classification_report(train_labels[600:1000], pred_labels_deskew))"
      ],
      "execution_count": 0,
      "outputs": [
        {
          "output_type": "stream",
          "text": [
            "91.25\n",
            "WITHOUT DESKEW\n",
            "[[37  0  1  0  0  0  1  0  0  0]\n",
            " [ 0 37  0  0  0  0  0  0  0  0]\n",
            " [ 0  0 31  0  0  0  0  2  1  1]\n",
            " [ 0  0  1 32  0  0  0  0  0  1]\n",
            " [ 0  0  0  0 40  2  4  0  0  0]\n",
            " [ 0  0  2  1  0 36  0  0  1  1]\n",
            " [ 1  1  0  0  1  0 36  0  1  0]\n",
            " [ 0  0  3  1  1  0  0 50  0  0]\n",
            " [ 0  0  0  0  0  1  0  0 36  1]\n",
            " [ 4  0  0  0  0  0  0  1  0 30]]\n",
            "              precision    recall  f1-score   support\n",
            "\n",
            "           0       0.88      0.95      0.91        39\n",
            "           1       0.97      1.00      0.99        37\n",
            "           2       0.82      0.89      0.85        35\n",
            "           3       0.94      0.94      0.94        34\n",
            "           4       0.95      0.87      0.91        46\n",
            "           5       0.92      0.88      0.90        41\n",
            "           6       0.88      0.90      0.89        40\n",
            "           7       0.94      0.91      0.93        55\n",
            "           8       0.92      0.95      0.94        38\n",
            "           9       0.88      0.86      0.87        35\n",
            "\n",
            "    accuracy                           0.91       400\n",
            "   macro avg       0.91      0.91      0.91       400\n",
            "weighted avg       0.91      0.91      0.91       400\n",
            "\n",
            "\n",
            "93.75\n",
            "WITH DESKEW\n",
            "[[39  0  0  0  0  0  0  0  0  0]\n",
            " [ 0 37  0  0  0  0  0  0  0  0]\n",
            " [ 0  0 34  0  0  0  0  0  0  1]\n",
            " [ 0  0  0 34  0  0  0  0  0  0]\n",
            " [ 0  0  0  0 42  0  3  0  0  1]\n",
            " [ 0  0  0  1  0 38  0  1  0  1]\n",
            " [ 0  0  1  0  0  1 38  0  0  0]\n",
            " [ 0  0  2  3  1  0  0 49  0  0]\n",
            " [ 1  0  0  0  1  1  0  0 35  0]\n",
            " [ 4  0  0  0  0  0  0  2  0 29]]\n",
            "              precision    recall  f1-score   support\n",
            "\n",
            "           0       0.89      1.00      0.94        39\n",
            "           1       1.00      1.00      1.00        37\n",
            "           2       0.92      0.97      0.94        35\n",
            "           3       0.89      1.00      0.94        34\n",
            "           4       0.95      0.91      0.93        46\n",
            "           5       0.95      0.93      0.94        41\n",
            "           6       0.93      0.95      0.94        40\n",
            "           7       0.94      0.89      0.92        55\n",
            "           8       1.00      0.92      0.96        38\n",
            "           9       0.91      0.83      0.87        35\n",
            "\n",
            "    accuracy                           0.94       400\n",
            "   macro avg       0.94      0.94      0.94       400\n",
            "weighted avg       0.94      0.94      0.94       400\n",
            "\n"
          ],
          "name": "stdout"
        }
      ]
    },
    {
      "cell_type": "markdown",
      "metadata": {
        "id": "U3Xu6ORdRJhk",
        "colab_type": "text"
      },
      "source": [
        "**Random Forest**"
      ]
    },
    {
      "cell_type": "code",
      "metadata": {
        "id": "awVDQ6Z7Ye_a",
        "colab_type": "code",
        "colab": {}
      },
      "source": [
        "from sklearn.ensemble import RandomForestClassifier\n",
        "\n",
        "#Funkcja do wyboru najlepszych parametrow modelu RandomForest w przedziale max_depth = 10:20, n_estimators = 50:150, max_features = 50:70\n",
        "def best_random_forest_model_based_on_cross_validation(train_data, train_labels):\n",
        "  max_depth = list(range(10,21))\n",
        "  n_estimators = list(range(50,151,10))\n",
        "  max_features = list(range(50,70,10))\n",
        "  len_validation_data = len(train_data)/5\n",
        "  max_correct =0\n",
        "  best_max_depth = 0\n",
        "  best_n_estimators = 0\n",
        "  best_max_features = 0\n",
        "  len_training_data_cs = int(4* len_validation_data)\n",
        "  \n",
        "  for depth in max_depth:\n",
        "    for estimator in n_estimators:\n",
        "      for features in max_features:\n",
        "        rfc = RandomForestClassifier(max_depth=depth, n_estimators=estimator, max_features=features)\n",
        "        rfc = rfc.fit(train_data[0:len_training_data_cs,:],train_labels[0:len_training_data_cs])\n",
        "\n",
        "        pred_labels = rfc.predict(train_data[len_training_data_cs:,:])\n",
        "\n",
        "        mask = pred_labels==train_labels[len_training_data_cs:]\n",
        "        correct = np.count_nonzero(mask)\n",
        "        if correct > max_correct:\n",
        "          max_correct = correct\n",
        "          best_max_depth = depth\n",
        "          best_n_estimators = estimator\n",
        "          best_max_features = features\n",
        "\n",
        "  rfc = RandomForestClassifier(max_depth=best_max_depth, n_estimators=best_n_estimators, max_features=best_max_features)\n",
        "  rfc = rfc.fit(train_data, train_labels)\n",
        "  return rfc"
      ],
      "execution_count": 0,
      "outputs": []
    },
    {
      "cell_type": "code",
      "metadata": {
        "id": "OQGgjzLoNjOY",
        "colab_type": "code",
        "outputId": "b1e533de-0ccd-49bd-a0e0-2ef22a6b823a",
        "colab": {
          "base_uri": "https://localhost:8080/",
          "height": 1000
        }
      },
      "source": [
        "#WITHOUT DESKEW\n",
        "rfc = best_random_forest_model_based_on_cross_validation(imData[0:600,:],train_labels[0:600])\n",
        "\n",
        "pred_labels = rfc.predict(imData[600:1000,:])\n",
        "\n",
        "mask = pred_labels==train_labels[600:1000]\n",
        "correct = np.count_nonzero(mask)\n",
        "print(\"WITHOUT DESKEW\")\n",
        "print(correct*100.0/pred_labels.size)\n",
        "\n",
        "cm = confusion_matrix(train_labels[600:1000], pred_labels)\n",
        "print(cm)\n",
        "print(classification_report(train_labels[600:1000], pred_labels))\n",
        "print()\n",
        "\n",
        "#WITH DESKEW\n",
        "rfc =  best_random_forest_model_based_on_cross_validation(imData_deskew[0:600,:],train_labels[0:600])\n",
        "\n",
        "pred_labels_deskew = rfc.predict(imData_deskew[600:1000,:])\n",
        "\n",
        "mask = pred_labels_deskew==train_labels[600:1000]\n",
        "correct = np.count_nonzero(mask)\n",
        "print(\"WITH DESKEW\")\n",
        "print(correct*100.0/pred_labels_deskew.size)\n",
        "\n",
        "cm = confusion_matrix(train_labels[600:1000], pred_labels_deskew)\n",
        "print(cm)\n",
        "print(classification_report(train_labels[600:1000], pred_labels_deskew))"
      ],
      "execution_count": 0,
      "outputs": [
        {
          "output_type": "stream",
          "text": [
            "WITHOUT DESKEW\n",
            "84.0\n",
            "[[28  0  1  0  0  0  8  2  0  0]\n",
            " [ 0 36  0  0  0  1  0  0  0  0]\n",
            " [ 0  0 31  0  1  1  0  1  0  1]\n",
            " [ 0  0  1 30  0  2  0  1  0  0]\n",
            " [ 0  0  0  0 42  1  2  0  0  1]\n",
            " [ 0  0  1  1  1 33  1  0  2  2]\n",
            " [ 1  2  0  0  2  1 34  0  0  0]\n",
            " [ 0  0  4  2  1  0  0 48  0  0]\n",
            " [ 3  4  0  0  2  1  0  0 27  1]\n",
            " [ 2  1  2  0  1  1  0  1  0 27]]\n",
            "              precision    recall  f1-score   support\n",
            "\n",
            "           0       0.82      0.72      0.77        39\n",
            "           1       0.84      0.97      0.90        37\n",
            "           2       0.78      0.89      0.83        35\n",
            "           3       0.91      0.88      0.90        34\n",
            "           4       0.84      0.91      0.87        46\n",
            "           5       0.80      0.80      0.80        41\n",
            "           6       0.76      0.85      0.80        40\n",
            "           7       0.91      0.87      0.89        55\n",
            "           8       0.93      0.71      0.81        38\n",
            "           9       0.84      0.77      0.81        35\n",
            "\n",
            "    accuracy                           0.84       400\n",
            "   macro avg       0.84      0.84      0.84       400\n",
            "weighted avg       0.84      0.84      0.84       400\n",
            "\n",
            "\n",
            "WITH DESKEW\n",
            "90.5\n",
            "[[39  0  0  0  0  0  0  0  0  0]\n",
            " [ 0 36  0  0  1  0  0  0  0  0]\n",
            " [ 0  0 31  0  1  0  0  1  1  1]\n",
            " [ 0  0  1 32  0  0  0  1  0  0]\n",
            " [ 0  0  1  0 42  1  1  0  1  0]\n",
            " [ 0  0  0  1  0 36  1  1  1  1]\n",
            " [ 1  2  0  0  2  1 34  0  0  0]\n",
            " [ 0  0  2  1  1  0  0 51  0  0]\n",
            " [ 3  0  0  0  0  0  0  0 34  1]\n",
            " [ 4  0  0  0  0  2  0  1  1 27]]\n",
            "              precision    recall  f1-score   support\n",
            "\n",
            "           0       0.83      1.00      0.91        39\n",
            "           1       0.95      0.97      0.96        37\n",
            "           2       0.89      0.89      0.89        35\n",
            "           3       0.94      0.94      0.94        34\n",
            "           4       0.89      0.91      0.90        46\n",
            "           5       0.90      0.88      0.89        41\n",
            "           6       0.94      0.85      0.89        40\n",
            "           7       0.93      0.93      0.93        55\n",
            "           8       0.89      0.89      0.89        38\n",
            "           9       0.90      0.77      0.83        35\n",
            "\n",
            "    accuracy                           0.91       400\n",
            "   macro avg       0.91      0.90      0.90       400\n",
            "weighted avg       0.91      0.91      0.90       400\n",
            "\n"
          ],
          "name": "stdout"
        }
      ]
    },
    {
      "cell_type": "markdown",
      "metadata": {
        "id": "GGx-p9q3Q6hU",
        "colab_type": "text"
      },
      "source": [
        "**Neural Network**"
      ]
    },
    {
      "cell_type": "code",
      "metadata": {
        "id": "EtiawTvaY7-h",
        "colab_type": "code",
        "colab": {}
      },
      "source": [
        "from keras import models\n",
        "from keras import layers\n",
        "\n",
        "def build_network(number_of_first_layer_units):\n",
        "  network = models.Sequential()\n",
        "  network.add(layers.Dense(number_of_first_layer_units, activation='relu', input_shape=(28 * 28,)))\n",
        "  network.add(layers.Dense(10, activation='softmax'))\n",
        "  return network\n",
        "\n",
        "\n",
        "def prepare_best_network(train_data, train_labels):\n",
        "  nr = 0\n",
        "  numbers_of_first_layer_units = [np.power(2,x) for x in range(1,10)]\n",
        "  len_validation_data = len(train_data)/5\n",
        "  best_numbers = 0\n",
        "  len_training_data_cs = int(4* len_validation_data)\n",
        "  max_test_acc = 0\n",
        "  \n",
        "  for number in numbers_of_first_layer_units:\n",
        "    nr+=1\n",
        "    print(\"Iteration #\" + str(nr))\n",
        "    network = build_network(number)\n",
        "    network.compile(optimizer='rmsprop',\n",
        "                loss='categorical_crossentropy',\n",
        "                metrics=['accuracy'])\n",
        "    network.fit(train_data[0:len_training_data_cs,:], train_labels[0:len_training_data_cs], epochs=5, batch_size=128, verbose=0)\n",
        "\n",
        "    test_loss, test_acc = network.evaluate(test_images, encoded_test_labels, verbose=0)\n",
        "    print(test_acc)\n",
        "    if test_acc > max_test_acc:\n",
        "      max_test_acc = test_acc\n",
        "      best_numbers = number\n",
        "\n",
        "  print(best_numbers)\n",
        "  network = build_network(best_numbers)\n",
        "  network.compile(optimizer='rmsprop',\n",
        "                loss='categorical_crossentropy',\n",
        "                metrics=['accuracy'])\n",
        "  network.fit(train_data, train_labels, epochs=5, batch_size=128)\n",
        "  return network"
      ],
      "execution_count": 0,
      "outputs": []
    },
    {
      "cell_type": "code",
      "metadata": {
        "id": "odYZvaDxPvjO",
        "colab_type": "code",
        "colab": {}
      },
      "source": [
        "#WITHOUT DESKEW\n",
        "train_images = train_images.reshape((60000, 28 * 28))\n",
        "train_images = train_images.astype('float32') / 255\n",
        "\n",
        "test_images = test_images.reshape((10000, 28 * 28))\n",
        "test_images = test_images.astype('float32') / 255\n",
        "\n",
        "#WITH DESKEW\n",
        "train_deskew = train_deskew.reshape((60000, 28 * 28))\n",
        "train_deskew = train_deskew.astype('float32') / 255\n",
        "\n",
        "test_deskew = test_deskew.reshape((10000, 28 * 28))\n",
        "test_deskew = test_deskew.astype('float32') / 255"
      ],
      "execution_count": 0,
      "outputs": []
    },
    {
      "cell_type": "code",
      "metadata": {
        "id": "4IFcodTtPz9e",
        "colab_type": "code",
        "outputId": "3dab0cdc-4470-4f18-fe2b-00061f01f773",
        "colab": {
          "base_uri": "https://localhost:8080/",
          "height": 138
        }
      },
      "source": [
        "from keras.utils import to_categorical\n",
        "\n",
        "encoded_train_labels = to_categorical(train_labels)\n",
        "encoded_test_labels = to_categorical(test_labels)\n",
        "\n",
        "encoded_test_labels"
      ],
      "execution_count": 0,
      "outputs": [
        {
          "output_type": "execute_result",
          "data": {
            "text/plain": [
              "array([[0., 0., 0., ..., 1., 0., 0.],\n",
              "       [0., 0., 1., ..., 0., 0., 0.],\n",
              "       [0., 1., 0., ..., 0., 0., 0.],\n",
              "       ...,\n",
              "       [0., 0., 0., ..., 0., 0., 0.],\n",
              "       [0., 0., 0., ..., 0., 0., 0.],\n",
              "       [0., 0., 0., ..., 0., 0., 0.]], dtype=float32)"
            ]
          },
          "metadata": {
            "tags": []
          },
          "execution_count": 10
        }
      ]
    },
    {
      "cell_type": "code",
      "metadata": {
        "id": "SrTS1CvBPpmv",
        "colab_type": "code",
        "outputId": "768264a8-0425-40e7-db83-293a65678c93",
        "colab": {
          "base_uri": "https://localhost:8080/",
          "height": 1000
        }
      },
      "source": [
        "#WITHOUT DESKEW\n",
        "print(\"NETWORK_WITHOUT_DESKEW\")\n",
        "network = prepare_best_network(train_images, encoded_train_labels)\n",
        "print()\n",
        "print(\"NETWORK_DESKEW\")\n",
        "print()\n",
        "network_deskew = prepare_best_network(train_deskew, encoded_train_labels)"
      ],
      "execution_count": 0,
      "outputs": [
        {
          "output_type": "stream",
          "text": [
            "NETWORK_WITHOUT_DESKEW\n",
            "Iteration #1\n",
            "WARNING:tensorflow:From /usr/local/lib/python3.6/dist-packages/keras/backend/tensorflow_backend.py:66: The name tf.get_default_graph is deprecated. Please use tf.compat.v1.get_default_graph instead.\n",
            "\n",
            "WARNING:tensorflow:From /usr/local/lib/python3.6/dist-packages/keras/backend/tensorflow_backend.py:541: The name tf.placeholder is deprecated. Please use tf.compat.v1.placeholder instead.\n",
            "\n",
            "WARNING:tensorflow:From /usr/local/lib/python3.6/dist-packages/keras/backend/tensorflow_backend.py:4432: The name tf.random_uniform is deprecated. Please use tf.random.uniform instead.\n",
            "\n",
            "WARNING:tensorflow:From /usr/local/lib/python3.6/dist-packages/keras/optimizers.py:793: The name tf.train.Optimizer is deprecated. Please use tf.compat.v1.train.Optimizer instead.\n",
            "\n",
            "WARNING:tensorflow:From /usr/local/lib/python3.6/dist-packages/keras/backend/tensorflow_backend.py:3576: The name tf.log is deprecated. Please use tf.math.log instead.\n",
            "\n",
            "WARNING:tensorflow:From /tensorflow-1.15.2/python3.6/tensorflow_core/python/ops/math_grad.py:1424: where (from tensorflow.python.ops.array_ops) is deprecated and will be removed in a future version.\n",
            "Instructions for updating:\n",
            "Use tf.where in 2.0, which has the same broadcast rule as np.where\n",
            "WARNING:tensorflow:From /usr/local/lib/python3.6/dist-packages/keras/backend/tensorflow_backend.py:1033: The name tf.assign_add is deprecated. Please use tf.compat.v1.assign_add instead.\n",
            "\n",
            "WARNING:tensorflow:From /usr/local/lib/python3.6/dist-packages/keras/backend/tensorflow_backend.py:1020: The name tf.assign is deprecated. Please use tf.compat.v1.assign instead.\n",
            "\n",
            "WARNING:tensorflow:From /usr/local/lib/python3.6/dist-packages/keras/backend/tensorflow_backend.py:3005: The name tf.Session is deprecated. Please use tf.compat.v1.Session instead.\n",
            "\n",
            "WARNING:tensorflow:From /usr/local/lib/python3.6/dist-packages/keras/backend/tensorflow_backend.py:190: The name tf.get_default_session is deprecated. Please use tf.compat.v1.get_default_session instead.\n",
            "\n",
            "WARNING:tensorflow:From /usr/local/lib/python3.6/dist-packages/keras/backend/tensorflow_backend.py:197: The name tf.ConfigProto is deprecated. Please use tf.compat.v1.ConfigProto instead.\n",
            "\n",
            "WARNING:tensorflow:From /usr/local/lib/python3.6/dist-packages/keras/backend/tensorflow_backend.py:207: The name tf.global_variables is deprecated. Please use tf.compat.v1.global_variables instead.\n",
            "\n",
            "WARNING:tensorflow:From /usr/local/lib/python3.6/dist-packages/keras/backend/tensorflow_backend.py:216: The name tf.is_variable_initialized is deprecated. Please use tf.compat.v1.is_variable_initialized instead.\n",
            "\n",
            "WARNING:tensorflow:From /usr/local/lib/python3.6/dist-packages/keras/backend/tensorflow_backend.py:223: The name tf.variables_initializer is deprecated. Please use tf.compat.v1.variables_initializer instead.\n",
            "\n",
            "0.5651\n",
            "Iteration #2\n",
            "0.8151\n",
            "Iteration #3\n",
            "0.9144\n",
            "Iteration #4\n",
            "0.9379\n",
            "Iteration #5\n",
            "0.9517\n",
            "Iteration #6\n",
            "0.9614\n",
            "Iteration #7\n",
            "0.9709\n",
            "Iteration #8\n",
            "0.9759\n",
            "Iteration #9\n",
            "0.9801\n",
            "512\n",
            "Epoch 1/5\n",
            "60000/60000 [==============================] - 4s 73us/step - loss: 0.2620 - acc: 0.9235\n",
            "Epoch 2/5\n",
            "60000/60000 [==============================] - 4s 68us/step - loss: 0.1060 - acc: 0.9683\n",
            "Epoch 3/5\n",
            "60000/60000 [==============================] - 4s 67us/step - loss: 0.0699 - acc: 0.9789\n",
            "Epoch 4/5\n",
            "60000/60000 [==============================] - 4s 67us/step - loss: 0.0517 - acc: 0.9841\n",
            "Epoch 5/5\n",
            "60000/60000 [==============================] - 4s 67us/step - loss: 0.0391 - acc: 0.9880\n",
            "\n",
            "NETWORK_DESKEW\n",
            "\n",
            "Iteration #1\n",
            "0.4845\n",
            "Iteration #2\n",
            "0.6354\n",
            "Iteration #3\n",
            "0.775\n",
            "Iteration #4\n",
            "0.7693\n",
            "Iteration #5\n",
            "0.7952\n",
            "Iteration #6\n",
            "0.7971\n",
            "Iteration #7\n",
            "0.8243\n",
            "Iteration #8\n",
            "0.8299\n",
            "Iteration #9\n",
            "0.8179\n",
            "256\n",
            "Epoch 1/5\n",
            "60000/60000 [==============================] - 3s 53us/step - loss: 0.2239 - acc: 0.9370\n",
            "Epoch 2/5\n",
            "60000/60000 [==============================] - 3s 43us/step - loss: 0.1057 - acc: 0.9686\n",
            "Epoch 3/5\n",
            "60000/60000 [==============================] - 3s 42us/step - loss: 0.0737 - acc: 0.9784\n",
            "Epoch 4/5\n",
            "60000/60000 [==============================] - 3s 42us/step - loss: 0.0563 - acc: 0.9832\n",
            "Epoch 5/5\n",
            "60000/60000 [==============================] - 3s 43us/step - loss: 0.0454 - acc: 0.9861\n"
          ],
          "name": "stdout"
        }
      ]
    },
    {
      "cell_type": "code",
      "metadata": {
        "id": "fXKuaZbPQBUH",
        "colab_type": "code",
        "outputId": "4a6912d2-4b0c-4788-bbc1-ec724daf8048",
        "colab": {
          "base_uri": "https://localhost:8080/",
          "height": 138
        }
      },
      "source": [
        "#WITHOUT DESKEW\n",
        "print(\"WITHOUT DESKEW\")\n",
        "test_loss, test_acc = network.evaluate(test_images, encoded_test_labels)\n",
        "print('test_acc:', test_acc)\n",
        "print()\n",
        "\n",
        "#WITH DESKEW\n",
        "test_loss, test_acc = network_deskew.evaluate(test_deskew, encoded_test_labels)\n",
        "print(\"WITH DESKEW\")\n",
        "print('test_acc:', test_acc)"
      ],
      "execution_count": 0,
      "outputs": [
        {
          "output_type": "stream",
          "text": [
            "WITHOUT DESKEW\n",
            "10000/10000 [==============================] - 1s 72us/step\n",
            "test_acc: 0.9817\n",
            "\n",
            "10000/10000 [==============================] - 1s 59us/step\n",
            "WITH DESKEW\n",
            "test_acc: 0.9831\n"
          ],
          "name": "stdout"
        }
      ]
    },
    {
      "cell_type": "code",
      "metadata": {
        "id": "gycPxmLCQFmP",
        "colab_type": "code",
        "outputId": "f7192982-e3ff-4730-8afc-a489ecfbd9b2",
        "colab": {
          "base_uri": "https://localhost:8080/",
          "height": 138
        }
      },
      "source": [
        "#WITHOUT DESKEW\n",
        "print(\"WITHOUT DESKEW\")\n",
        "pred_probabilities = network.predict(test_images)\n",
        "print(pred_probabilities[0:1])\n",
        "print()\n",
        "\n",
        "#WITH DESKEW\n",
        "pred_probabilities_deskew = network_deskew.predict(test_deskew)\n",
        "print(\"WITH DESKEW\")\n",
        "print(pred_probabilities_deskew[0:1])"
      ],
      "execution_count": 0,
      "outputs": [
        {
          "output_type": "stream",
          "text": [
            "WITHOUT DESKEW\n",
            "[[8.0953741e-09 2.2255571e-11 3.7311456e-06 1.0927809e-05 6.9331186e-12\n",
            "  4.4205546e-08 9.0450142e-15 9.9998498e-01 2.7401869e-08 3.3917644e-07]]\n",
            "\n",
            "WITH DESKEW\n",
            "[[3.7672674e-08 6.2190980e-10 9.0421571e-07 4.3463431e-05 1.3084688e-10\n",
            "  1.6492687e-09 1.3019673e-12 9.9995124e-01 1.1319336e-07 4.1494636e-06]]\n"
          ],
          "name": "stdout"
        }
      ]
    },
    {
      "cell_type": "code",
      "metadata": {
        "id": "H8awoSWdQIig",
        "colab_type": "code",
        "outputId": "6cc6194e-2f48-4ef9-ef99-9c57573249a6",
        "colab": {
          "base_uri": "https://localhost:8080/",
          "height": 392
        }
      },
      "source": [
        "#WITHOUT DESKEW\n",
        "pred_labels = np.argmax(pred_probabilities,-1)\n",
        "print(pred_labels[0])\n",
        "showOpencvImage(test_images[0].reshape(28,-1))\n",
        "\n",
        "#WITH DESKEW\n",
        "pred_labels_deskew = np.argmax(pred_probabilities_deskew,-1)"
      ],
      "execution_count": 0,
      "outputs": [
        {
          "output_type": "stream",
          "text": [
            "7\n"
          ],
          "name": "stdout"
        },
        {
          "output_type": "display_data",
          "data": {
            "image/png": "[encoded data removed]",
            "text/plain": [
              "<Figure size 432x432 with 1 Axes>"
            ]
          },
          "metadata": {
            "tags": []
          }
        }
      ]
    },
    {
      "cell_type": "code",
      "metadata": {
        "id": "_S2jHywPQMKK",
        "colab_type": "code",
        "outputId": "dd677c27-3bd6-42c0-88f2-ca9e9b6c755d",
        "colab": {
          "base_uri": "https://localhost:8080/",
          "height": 1000
        }
      },
      "source": [
        "from sklearn.metrics import classification_report, confusion_matrix\n",
        "\n",
        "#WITHOUT DESKEW\n",
        "cm = confusion_matrix(test_labels, pred_labels)\n",
        "print(\"WITHOUT DESKEW\")\n",
        "print(cm)\n",
        "print(classification_report(test_labels, pred_labels))\n",
        "print()\n",
        "\n",
        "#WITH DESKEW\n",
        "cm = confusion_matrix(test_labels, pred_labels_deskew)\n",
        "print(\"WITH DESKEW\")\n",
        "print(cm)\n",
        "print(classification_report(test_labels, pred_labels_deskew))"
      ],
      "execution_count": 0,
      "outputs": [
        {
          "output_type": "stream",
          "text": [
            "WITHOUT DESKEW\n",
            "[[ 969    0    1    3    1    1    1    1    2    1]\n",
            " [   0 1125    4    1    0    0    2    0    3    0]\n",
            " [   1    0 1012    3    4    0    2    6    4    0]\n",
            " [   0    0    2  996    0    1    0    3    2    6]\n",
            " [   0    0    4    0  972    0    1    1    1    3]\n",
            " [   2    0    0   11    2  867    3    0    4    3]\n",
            " [   3    3    1    1    8    3  936    0    3    0]\n",
            " [   1    5   11    3    0    0    0  999    1    8]\n",
            " [   0    0    4    6    3    1    0    3  953    4]\n",
            " [   0    2    0    5   11    0    0    3    0  988]]\n",
            "              precision    recall  f1-score   support\n",
            "\n",
            "           0       0.99      0.99      0.99       980\n",
            "           1       0.99      0.99      0.99      1135\n",
            "           2       0.97      0.98      0.98      1032\n",
            "           3       0.97      0.99      0.98      1010\n",
            "           4       0.97      0.99      0.98       982\n",
            "           5       0.99      0.97      0.98       892\n",
            "           6       0.99      0.98      0.98       958\n",
            "           7       0.98      0.97      0.98      1028\n",
            "           8       0.98      0.98      0.98       974\n",
            "           9       0.98      0.98      0.98      1009\n",
            "\n",
            "    accuracy                           0.98     10000\n",
            "   macro avg       0.98      0.98      0.98     10000\n",
            "weighted avg       0.98      0.98      0.98     10000\n",
            "\n",
            "\n",
            "WITH DESKEW\n",
            "[[ 974    0    0    0    0    1    3    1    1    0]\n",
            " [   0 1127    2    2    0    3    0    0    1    0]\n",
            " [   1    2 1013    5    1    1    2    2    5    0]\n",
            " [   1    0    2  997    0    5    0    3    1    1]\n",
            " [   0    0    2    0  969    0    3    0    0    8]\n",
            " [   2    0    0    4    1  882    1    1    1    0]\n",
            " [   4    3    0    1    4    7  937    0    2    0]\n",
            " [   2    2   11    5    1    0    0  996    1   10]\n",
            " [   2    0    6    8    3    4    0    0  948    3]\n",
            " [   1    0    2    5    6    1    1    4    1  988]]\n",
            "              precision    recall  f1-score   support\n",
            "\n",
            "           0       0.99      0.99      0.99       980\n",
            "           1       0.99      0.99      0.99      1135\n",
            "           2       0.98      0.98      0.98      1032\n",
            "           3       0.97      0.99      0.98      1010\n",
            "           4       0.98      0.99      0.99       982\n",
            "           5       0.98      0.99      0.98       892\n",
            "           6       0.99      0.98      0.98       958\n",
            "           7       0.99      0.97      0.98      1028\n",
            "           8       0.99      0.97      0.98       974\n",
            "           9       0.98      0.98      0.98      1009\n",
            "\n",
            "    accuracy                           0.98     10000\n",
            "   macro avg       0.98      0.98      0.98     10000\n",
            "weighted avg       0.98      0.98      0.98     10000\n",
            "\n"
          ],
          "name": "stdout"
        }
      ]
    },
    {
      "cell_type": "markdown",
      "metadata": {
        "id": "TC9lp9mJSc8_",
        "colab_type": "text"
      },
      "source": [
        "WNIOSKI:\n",
        "\n",
        "Preproccesing w postaci wyprostowania litery (deskew) pozwala na uzyskanie lepszych wyników dla poszczególnych klasyfikatorów. Największą różnicę widać dla klasyfikatora Random Forest. Dla sieci neuronowej użycie preproccesingu zmieniło rezultat działania w tym przypadku tylko o około 0.1% (na plus), ale warto zauważyć, że sieć neuronowa uzyskała wartość parametru accuracy (precyzja) na poziomie 98% "
      ]
    }
  ]
}